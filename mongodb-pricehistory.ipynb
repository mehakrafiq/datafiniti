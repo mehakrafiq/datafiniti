{
 "cells": [
  {
   "cell_type": "code",
   "execution_count": null,
   "metadata": {},
   "outputs": [],
   "source": [
    "import os\n",
    "import json\n",
    "import pandas as pd\n",
    "from pymongo import MongoClient\n",
    "from pymongo.server_api import ServerApi\n",
    "import re\n",
    "from collections import Counter"
   ]
  },
  {
   "cell_type": "code",
   "execution_count": null,
   "metadata": {},
   "outputs": [],
   "source": [
    "uri = \"\""
   ]
  },
  {
   "cell_type": "code",
   "execution_count": null,
   "metadata": {},
   "outputs": [],
   "source": [
    "# Create a new client and connect to the server\n",
    "client = MongoClient(uri, server_api=ServerApi('1'))\n",
    "# Send a ping to confirm a successful connection\n",
    "try:\n",
    "    client.admin.command('ping')\n",
    "    print(\"Pinged your deployment. You successfully connected to MongoDB!\")\n",
    "except Exception as e:\n",
    "    print(e)"
   ]
  },
  {
   "cell_type": "code",
   "execution_count": null,
   "metadata": {},
   "outputs": [],
   "source": [
    "# Adjusting the code to correctly handle the structure of the currency_prices data\n",
    "\n",
    "price_data = []\n",
    "for merchant in data['prices']:\n",
    "    merchant_name = merchant['merchant']\n",
    "    for price_info in merchant['prices']:\n",
    "        for currency_entry in price_info['currency_prices']:\n",
    "            for date_key, price in currency_entry.items():\n",
    "                if 'dateSeen' in date_key:\n",
    "                    dates = price\n",
    "                    currency_number = date_key.split('_')[1]\n",
    "                    price_key = f'currency_{currency_number}'\n",
    "                    amount = float(currency_entry[price_key]['$numberDouble'])\n",
    "                    for date in dates:\n",
    "                        price_data.append((merchant_name, datetime.fromisoformat(date.replace('Z', '')), amount))\n",
    "\n",
    "# Sort data by date\n",
    "price_data.sort(key=lambda x: x[1])\n",
    "\n",
    "# Separate data by merchants for plotting\n",
    "merchants = set([x[0] for x in price_data])\n",
    "plt.figure(figsize=(10, 6))\n",
    "\n",
    "for merchant in merchants:\n",
    "    merchant_data = [(x[1], x[2]) for x in price_data if x[0] == merchant]\n",
    "    dates, prices = zip(*merchant_data)\n",
    "    plt.plot(dates, prices, label=merchant)\n",
    "\n",
    "plt.xlabel('Date')\n",
    "plt.ylabel('Price')\n",
    "plt.title('Price History by Merchant')\n",
    "plt.legend()\n",
    "plt.grid(True)\n",
    "plt.xticks(rotation=45)\n",
    "plt.tight_layout()\n",
    "plt.show()"
   ]
  }
 ],
 "metadata": {
  "language_info": {
   "name": "python"
  }
 },
 "nbformat": 4,
 "nbformat_minor": 2
}
