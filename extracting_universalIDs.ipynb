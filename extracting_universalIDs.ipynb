{
 "cells": [
  {
   "cell_type": "code",
   "execution_count": 19,
   "metadata": {},
   "outputs": [],
   "source": [
    "# Import Libraries\n",
    "import json\n",
    "import os\n",
    "import shutil\n",
    "import pandas as pd"
   ]
  },
  {
   "cell_type": "code",
   "execution_count": 20,
   "metadata": {},
   "outputs": [],
   "source": [
    "# Define the base working directory\n",
    "directory = '/Volumes/Upwork/Upwork/Big_ticket/Data/Raw_data/'\n",
    "\n",
    "# Define the base working directory\n",
    "base_directory = os.path.join(directory, 'Coffee_Machines')"
   ]
  },
  {
   "cell_type": "code",
   "execution_count": 21,
   "metadata": {},
   "outputs": [],
   "source": [
    "# Define the folder paths relative to the base directory\n",
    "output_folder_path = os.path.join(base_directory, 'renamed_jsons')"
   ]
  },
  {
   "cell_type": "code",
   "execution_count": 22,
   "metadata": {},
   "outputs": [],
   "source": [
    "#Making new json files with unique keys\n",
    "\n",
    "# # Define the new folder path where renamed JSON files will be stored\n",
    "renamed_folder_path = os.path.join(base_directory, 'uniqueIds_jsons')\n",
    "\n",
    "# Create the new directory if it doesn't exist\n",
    "os.makedirs(renamed_folder_path, exist_ok=True)"
   ]
  },
  {
   "cell_type": "code",
   "execution_count": 23,
   "metadata": {},
   "outputs": [],
   "source": [
    "# List of keys to keep\n",
    "keys_to_keep = [\n",
    "    \"ean\",\n",
    "    \"ean13\",\n",
    "    \"gtins\",\n",
    "    \"id\",\n",
    "    \"key\",\n",
    "    \"keys\",\n",
    "    \"manufacturer\",\n",
    "    \"manufacturerNumber\",\n",
    "    \"skus\",\n",
    "    \"upc\",\n",
    "    \"upca\"\n",
    "]"
   ]
  },
  {
   "cell_type": "code",
   "execution_count": 24,
   "metadata": {},
   "outputs": [
    {
     "name": "stdout",
     "output_type": "stream",
     "text": [
      "Total number of original JSON files: 639\n",
      "Total number of new JSON files (with filtered keys): 639\n"
     ]
    }
   ],
   "source": [
    "# Id_jsons made\n",
    "\n",
    "# Counters for the total number of files\n",
    "original_file_count = 0\n",
    "new_file_count = 0\n",
    "\n",
    "# Iterate over each JSON file in the output folder\n",
    "for filename in os.listdir(output_folder_path):\n",
    "    if filename.endswith(\".json\"):  # Process only JSON files\n",
    "        original_file_count += 1  # Count the original files\n",
    "        \n",
    "        file_path = os.path.join(output_folder_path, filename)\n",
    "        \n",
    "        # Open and load the JSON file\n",
    "        with open(file_path, 'r', encoding='utf-8') as json_file:\n",
    "            data = json.load(json_file)\n",
    "        \n",
    "        # Filter out only the keys we want to keep\n",
    "        filtered_data = {key: data[key] for key in keys_to_keep if key in data}\n",
    "        \n",
    "        # Create the path for the new file\n",
    "        new_file_path = os.path.join(renamed_folder_path, filename)\n",
    "        \n",
    "        # Save the filtered JSON to the new folder only if it has filtered data\n",
    "        if filtered_data:\n",
    "            new_file_count += 1  # Count the new file only if it has content\n",
    "            with open(new_file_path, 'w', encoding='utf-8') as new_json_file:\n",
    "                json.dump(filtered_data, new_json_file, indent=4)\n",
    "\n",
    "# Print the total number of files in both original and new directories\n",
    "print(f\"Total number of original JSON files: {original_file_count}\")\n",
    "print(f\"Total number of new JSON files (with filtered keys): {new_file_count}\")"
   ]
  },
  {
   "cell_type": "code",
   "execution_count": null,
   "metadata": {},
   "outputs": [],
   "source": []
  }
 ],
 "metadata": {
  "kernelspec": {
   "display_name": "bigticket-datafiniti",
   "language": "python",
   "name": "python3"
  },
  "language_info": {
   "codemirror_mode": {
    "name": "ipython",
    "version": 3
   },
   "file_extension": ".py",
   "mimetype": "text/x-python",
   "name": "python",
   "nbconvert_exporter": "python",
   "pygments_lexer": "ipython3",
   "version": "3.10.14"
  }
 },
 "nbformat": 4,
 "nbformat_minor": 2
}
