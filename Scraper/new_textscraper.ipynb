{
 "cells": [
  {
   "cell_type": "code",
   "execution_count": 1,
   "metadata": {},
   "outputs": [],
   "source": [
    "from selenium import webdriver\n",
    "from selenium.webdriver.chrome.service import Service\n",
    "from selenium.webdriver.common.by import By\n",
    "from selenium.webdriver.support.ui import WebDriverWait\n",
    "from selenium.webdriver.support import expected_conditions as EC\n",
    "from bs4 import BeautifulSoup\n",
    "import json\n",
    "\n"
   ]
  },
  {
   "cell_type": "code",
   "execution_count": 2,
   "metadata": {},
   "outputs": [],
   "source": [
    "# Path to your local ChromeDriver\n",
    "chrome_driver_path = \"/Users/mehak/chromedriver/chromedriver\""
   ]
  },
  {
   "cell_type": "code",
   "execution_count": 3,
   "metadata": {},
   "outputs": [
    {
     "name": "stdout",
     "output_type": "stream",
     "text": [
      "No product identifiers found.\n"
     ]
    }
   ],
   "source": [
    "# Set up the ChromeDriver service with your local path\n",
    "service = Service(executable_path=chrome_driver_path)\n",
    "\n",
    "# Set Chrome options (remove headless for debugging)\n",
    "options = webdriver.ChromeOptions()\n",
    "# options.add_argument('--headless')  # Remove this for debugging\n",
    "\n",
    "# Initialize WebDriver\n",
    "driver = webdriver.Chrome(service=service, options=options)\n",
    "\n",
    "# Function to extract product identifiers from JSON-LD using Selenium\n",
    "def get_product_identifiers_selenium(url):\n",
    "    # Navigate to the page\n",
    "    driver.get(url)\n",
    "\n",
    "    try:\n",
    "        # Wait for the <script> tag with JSON-LD data to load (up to 10 seconds)\n",
    "        WebDriverWait(driver, 10).until(\n",
    "            EC.presence_of_element_located((By.XPATH, \"//script[@type='application/ld+json']\"))\n",
    "        )\n",
    "\n",
    "        # Get the page source after the page is fully loaded\n",
    "        page_source = driver.page_source\n",
    "\n",
    "        # Parse the rendered page source with BeautifulSoup\n",
    "        soup = BeautifulSoup(page_source, 'lxml')\n",
    "\n",
    "        # Look for JSON-LD structured data\n",
    "        script_tag = soup.find('script', {'type': 'application/ld+json'})\n",
    "        \n",
    "        if script_tag:\n",
    "            # Load the JSON content\n",
    "            json_data = json.loads(script_tag.string)\n",
    "            \n",
    "            # Extract product identifiers\n",
    "            product_data = {}\n",
    "            if 'gtin13' in json_data:\n",
    "                product_data['GTIN-13'] = json_data['gtin13']\n",
    "            if 'model' in json_data:\n",
    "                product_data['Model Number'] = json_data['model']\n",
    "            if 'sku' in json_data:\n",
    "                product_data['SKU'] = json_data['sku']\n",
    "            if 'offers' in json_data:\n",
    "                offers = json_data['offers']\n",
    "                if 'lowPrice' in offers:\n",
    "                    product_data['Low Price'] = offers['lowPrice']\n",
    "                if 'highPrice' in offers:\n",
    "                    product_data['High Price'] = offers['highPrice']\n",
    "\n",
    "            # Print the extracted data\n",
    "            if product_data:\n",
    "                print(\"Extracted Product Identifiers:\")\n",
    "                for key, value in product_data.items():\n",
    "                    print(f\"{key}: {value}\")\n",
    "            else:\n",
    "                print(\"No product identifiers found.\")\n",
    "        else:\n",
    "            print(\"No JSON-LD structured data found.\")\n",
    "    except Exception as e:\n",
    "        print(f\"Error: {e}\")\n",
    "\n",
    "# Example usage:\n",
    "url = \"https://www.bestbuy.com/site/ge-profile-top-control-smart-built-in-stainless-steel-tub-dishwasher-with-3rd-rack-dedicated-jet-targeted-wash-and-42-dba-stainless-steel/6572540.p?skuId=6572540\"\n",
    "get_product_identifiers_selenium(url)\n"
   ]
  },
  {
   "cell_type": "code",
   "execution_count": 4,
   "metadata": {},
   "outputs": [],
   "source": [
    "# Don't forget to close the driver when you're done\n",
    "driver.quit()"
   ]
  }
 ],
 "metadata": {
  "kernelspec": {
   "display_name": "bigticket-scraper",
   "language": "python",
   "name": "python3"
  },
  "language_info": {
   "codemirror_mode": {
    "name": "ipython",
    "version": 3
   },
   "file_extension": ".py",
   "mimetype": "text/x-python",
   "name": "python",
   "nbconvert_exporter": "python",
   "pygments_lexer": "ipython3",
   "version": "3.8.19"
  }
 },
 "nbformat": 4,
 "nbformat_minor": 2
}
