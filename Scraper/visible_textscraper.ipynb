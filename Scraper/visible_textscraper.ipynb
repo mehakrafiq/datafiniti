{
 "cells": [
  {
   "cell_type": "code",
   "execution_count": 1,
   "metadata": {},
   "outputs": [],
   "source": [
    "import requests\n",
    "from bs4 import BeautifulSoup\n",
    "import re\n"
   ]
  },
  {
   "cell_type": "code",
   "execution_count": 2,
   "metadata": {},
   "outputs": [
    {
     "name": "stdout",
     "output_type": "stream",
     "text": [
      "Found Product Identifiers:\n",
      "Generic Product ID: 6474683\n",
      "Generic Product ID: 6474683\n"
     ]
    }
   ],
   "source": [
    "\n",
    "# URL of the product page\n",
    "url = \"https://www.bestbuy.com/site/ge-top-control-built-in-dishwasher-with-sanitize-cycle-and-dry-boost-52-dba-stainless-steel/6474683.p?skuId=6474683\"\n",
    "\n",
    "# Send a request to get the page content\n",
    "headers = {\n",
    "    'User-Agent': 'Mozilla/5.0 (Windows NT 10.0; Win64; x64) AppleWebKit/537.36 (KHTML, like Gecko) Chrome/85.0.4183.102 Safari/537.36'}\n",
    "response = requests.get(url, headers=headers)\n",
    "\n",
    "# Parse the content with BeautifulSoup\n",
    "soup = BeautifulSoup(response.content, 'lxml')\n",
    "\n",
    "# Extracting visible text content\n",
    "page_content = soup.get_text(separator=' ')  # Extract visible text from the page\n",
    "\n",
    "# Define patterns for specific e-commerce platforms\n",
    "site_patterns = [\n",
    "    {'site': 'amazon.com', 'regex': re.compile(r'/\\/(?:dp|gp\\/product)\\/([A-Z0-9]{10})(\\/|\\?|$)/'), 'type': 'Amazon ASIN'},\n",
    "    {'site': 'ebay.com', 'regex': re.compile(r'/\\/(?:p|itm)\\/(\\d+)(?:[\\/?]|$)/'), 'type': 'eBay Product ID'},\n",
    "    {'site': 'costco.com', 'regex': re.compile(r'(?:.+)?\\.product\\.(\\d+)\\.html\\?(.*)$'), 'type': 'Costco Product ID'},\n",
    "    {'site': 'walmart.com', 'regex': re.compile(r'/\\/ip\\/[^\\/]+\\/(\\d+)(?:[\\/?]|$)/'), 'type': 'Walmart Product ID'},\n",
    "    {'site': 'aliexpress.com', 'regex': re.compile(r'/item\\/(\\d+)\\.html(\\/|\\?|$)/'), 'type': 'AliExpress Product ID'},\n",
    "    {'site': 'bestbuy.com', 'regex': re.compile(r'skuId=(\\d+)(\\/|\\?|$)'), 'type': 'BestBuy SKU'},\n",
    "    {'site': 'target.com', 'regex': re.compile(r'/\\/p\\/[^\\/]+\\/-\\/A-(\\d+)(?:[\\/?#]|$)/'), 'type': 'Target Product ID'},\n",
    "    {'site': 'newegg.com', 'regex': re.compile(r'(?:\\/p\\/|Item=)([A-Z0-9]+)(?:[\\/?]|$)'), 'type': 'Newegg Product ID'},\n",
    "    {'site': 'temu.com', 'regex': re.compile(r'/-g-(\\d+)(?:\\.html|[\\/?]|$)/'), 'type': 'Temu Product ID'},\n",
    "    {'site': 'rakuten.com', 'regex': re.compile(r'/\\/product\\/(\\d+)(\\/|\\?|$)/'), 'type': 'Rakuten Product ID'},\n",
    "    {'site': 'flipkart.com', 'regex': re.compile(r'\\?pid=([A-Z0-9]+)'), 'type': 'Flipkart Product ID'},\n",
    "    {'site': 'etsy.com', 'regex': re.compile(r'/listing\\/(\\d+)(\\/|\\?|$)/'), 'type': 'Etsy Listing ID'},\n",
    "    {'site': 'homedepot.com', 'regex': re.compile(r'/\\/p\\/(?:[^\\/]+\\/)?(\\d+)(?:[\\/?]|$)/'), 'type': 'Home Depot Product ID'},\n",
    "    {'site': 'lowes.com', 'regex': re.compile(r'(\\d+)(\\/|\\?|$)'), 'type': 'Lowes Product ID'},\n",
    "    {'site': 'wayfair.com', 'regex': re.compile(r'.*\\/pdp\\/.*-([a-zA-Z0-9]+)\\.html$'), 'type': 'Wayfair Product ID'},\n",
    "    {'site': 'overstock.com', 'regex': re.compile(r'product\\.html\\?productId=(\\d+)(\\/|\\?|$)'), 'type': 'Overstock Product ID'},\n",
    "    {'site': 'bhphotovideo.com', 'regex': re.compile(r'/(\\d{7}-[A-Z0-9]+)\\//'), 'type': 'B&H Photo Product ID'},\n",
    "    {'site': 'neimanmarcus.com', 'regex': re.compile(r'/\\/p\\/([^\\/?#&]+)/'), 'type': 'Neiman Marcus Product ID'},\n",
    "    {'site': 'macys.com', 'regex': re.compile(r'[?&]ID=(\\d+)'), 'type': 'Macy\\'s Product ID'},\n",
    "    {'site': 'kohls.com', 'regex': re.compile(r'/\\/prd-(\\d+)(?!\\/|\\?)/'), 'type': 'Kohl\\'s Product ID'},\n",
    "]\n",
    "\n",
    "# Define regular expressions for universal product identifiers (EAN, GTIN, UPC)\n",
    "id_patterns = {\n",
    "    'EAN-13': re.compile(r'\\b\\d{13}\\b'),    # EAN-13: exactly 13 digits\n",
    "    'GTIN': re.compile(r'\\b\\d{14}\\b'),      # GTIN: exactly 14 digits\n",
    "    'UPC': re.compile(r'\\b\\d{12}\\b'),       # UPC: exactly 12 digits\n",
    "    'EAN-8': re.compile(r'\\b\\d{8}\\b'),      # EAN-8: exactly 8 digits\n",
    "}\n",
    "\n",
    "# Function to search for product IDs\n",
    "def find_product_ids(content, patterns, id_patterns):\n",
    "    found_product_ids = []\n",
    "    \n",
    "    # Loop over each e-commerce platform pattern and search in URL content\n",
    "    for pattern in patterns:\n",
    "        matches = pattern['regex'].findall(content)\n",
    "        for match in matches:\n",
    "            found_product_ids.append(f'{pattern[\"type\"]}: {match}')\n",
    "\n",
    "    # Loop over each ID pattern and search in the visible text content\n",
    "    for id_type, regex in id_patterns.items():\n",
    "        matches = regex.findall(content)\n",
    "        for match in matches:\n",
    "            found_product_ids.append(f'{id_type}: {match}')\n",
    "    \n",
    "    # Generic pattern for any sequence of 4 or more digits (e.g., SKU)\n",
    "    generic_regex = re.compile(r'\\b\\d{4,}\\b')\n",
    "    generic_matches = generic_regex.findall(content)\n",
    "    for match in generic_matches:\n",
    "        found_product_ids.append(f'Generic Product ID: {match}')\n",
    "    \n",
    "    return found_product_ids\n",
    "\n",
    "# Combine URL and visible page content (if URL scraping is relevant)\n",
    "full_content = url + \"\\n\" + page_content\n",
    "\n",
    "# Find product IDs in the visible text and URL\n",
    "product_ids = find_product_ids(full_content, site_patterns, id_patterns)\n",
    "\n",
    "# Print the found product IDs\n",
    "if product_ids:\n",
    "    print(\"Found Product Identifiers:\")\n",
    "    for pid in product_ids:\n",
    "        print(pid)\n",
    "else:\n",
    "    print(\"No product identifiers found.\")"
   ]
  }
 ],
 "metadata": {
  "kernelspec": {
   "display_name": "bigticket-scraper",
   "language": "python",
   "name": "python3"
  },
  "language_info": {
   "codemirror_mode": {
    "name": "ipython",
    "version": 3
   },
   "file_extension": ".py",
   "mimetype": "text/x-python",
   "name": "python",
   "nbconvert_exporter": "python",
   "pygments_lexer": "ipython3",
   "version": "3.8.19"
  }
 },
 "nbformat": 4,
 "nbformat_minor": 2
}
