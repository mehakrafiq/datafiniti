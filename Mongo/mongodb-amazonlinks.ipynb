{
 "cells": [
  {
   "cell_type": "code",
   "execution_count": 1,
   "metadata": {},
   "outputs": [],
   "source": [
    "import os\n",
    "import json\n",
    "from pymongo import MongoClient\n",
    "from pymongo.server_api import ServerApi"
   ]
  },
  {
   "cell_type": "code",
   "execution_count": 2,
   "metadata": {},
   "outputs": [],
   "source": [
    "uri = \"\""
   ]
  },
  {
   "cell_type": "code",
   "execution_count": 3,
   "metadata": {},
   "outputs": [
    {
     "name": "stdout",
     "output_type": "stream",
     "text": [
      "ac-oymwqak-shard-00-01.voasry5.mongodb.net:27017: timed out (configured timeouts: socketTimeoutMS: 20000.0ms, connectTimeoutMS: 20000.0ms),ac-oymwqak-shard-00-02.voasry5.mongodb.net:27017: timed out (configured timeouts: socketTimeoutMS: 20000.0ms, connectTimeoutMS: 20000.0ms),ac-oymwqak-shard-00-00.voasry5.mongodb.net:27017: timed out (configured timeouts: socketTimeoutMS: 20000.0ms, connectTimeoutMS: 20000.0ms), Timeout: 30s, Topology Description: <TopologyDescription id: 66b9fc451348a7a92143eea3, topology_type: ReplicaSetNoPrimary, servers: [<ServerDescription ('ac-oymwqak-shard-00-00.voasry5.mongodb.net', 27017) server_type: Unknown, rtt: None, error=NetworkTimeout('ac-oymwqak-shard-00-00.voasry5.mongodb.net:27017: timed out (configured timeouts: socketTimeoutMS: 20000.0ms, connectTimeoutMS: 20000.0ms)')>, <ServerDescription ('ac-oymwqak-shard-00-01.voasry5.mongodb.net', 27017) server_type: Unknown, rtt: None, error=NetworkTimeout('ac-oymwqak-shard-00-01.voasry5.mongodb.net:27017: timed out (configured timeouts: socketTimeoutMS: 20000.0ms, connectTimeoutMS: 20000.0ms)')>, <ServerDescription ('ac-oymwqak-shard-00-02.voasry5.mongodb.net', 27017) server_type: Unknown, rtt: None, error=NetworkTimeout('ac-oymwqak-shard-00-02.voasry5.mongodb.net:27017: timed out (configured timeouts: socketTimeoutMS: 20000.0ms, connectTimeoutMS: 20000.0ms)')>]>\n"
     ]
    }
   ],
   "source": [
    "# Create a new client and connect to the server\n",
    "client = MongoClient(uri, server_api=ServerApi('1'))\n",
    "# Send a ping to confirm a successful connection\n",
    "try:\n",
    "    client.admin.command('ping')\n",
    "    print(\"Pinged your deployment. You successfully connected to MongoDB!\")\n",
    "except Exception as e:\n",
    "    print(e)"
   ]
  },
  {
   "cell_type": "code",
   "execution_count": 4,
   "metadata": {},
   "outputs": [
    {
     "name": "stdout",
     "output_type": "stream",
     "text": [
      "Selected the collection Collection(Database(MongoClient(host=['ac-oymwqak-shard-00-00.voasry5.mongodb.net:27017', 'ac-oymwqak-shard-00-02.voasry5.mongodb.net:27017', 'ac-oymwqak-shard-00-01.voasry5.mongodb.net:27017'], document_class=dict, tz_aware=False, connect=True, retrywrites=True, w='majority', appname='Cluster-datafiniti', authsource='admin', replicaset='atlas-wnl9x3-shard-0', tls=True, server_api=<pymongo.server_api.ServerApi object at 0x110be3620>), 'clean_data'), 'id_jsons') in the database Database(MongoClient(host=['ac-oymwqak-shard-00-00.voasry5.mongodb.net:27017', 'ac-oymwqak-shard-00-02.voasry5.mongodb.net:27017', 'ac-oymwqak-shard-00-01.voasry5.mongodb.net:27017'], document_class=dict, tz_aware=False, connect=True, retrywrites=True, w='majority', appname='Cluster-datafiniti', authsource='admin', replicaset='atlas-wnl9x3-shard-0', tls=True, server_api=<pymongo.server_api.ServerApi object at 0x110be3620>), 'clean_data')\n"
     ]
    }
   ],
   "source": [
    "# Select the collections in the cluster\n",
    "db = client['clean_data']\n",
    "collection = db['id_jsons']\n",
    "print(f\"Selected the collection {collection} in the database {db}\")"
   ]
  },
  {
   "cell_type": "code",
   "execution_count": 5,
   "metadata": {},
   "outputs": [
    {
     "name": "stdout",
     "output_type": "stream",
     "text": [
      "You entered:  0011120240214\n"
     ]
    }
   ],
   "source": [
    "# Input EAN number from user\n",
    "ean_input = input(\"Enter the EAN number: \")\n",
    "print(\"You entered: \", ean_input)"
   ]
  },
  {
   "cell_type": "code",
   "execution_count": 9,
   "metadata": {},
   "outputs": [
    {
     "name": "stdout",
     "output_type": "stream",
     "text": [
      "No document found with the given EAN: 0011120240214\n",
      "{\n",
      "    \"link\": \"\"\n",
      "}\n"
     ]
    }
   ],
   "source": [
    "# Function to generate Amazon affiliate link\n",
    "def generate_affiliate_link(asin):\n",
    "    return f\"https://www.amazon.com/dp/{asin}?tag=your_affiliate_tag\"\n",
    "\n",
    "# Find document with the given EAN and non-null ASINS\n",
    "document = collection.find_one({'ean.ean13': ean_input, 'asins': {'$ne': None}})\n",
    "\n",
    "# Debugging information\n",
    "if document:\n",
    "    print(\"Document found:\", document)\n",
    "else:\n",
    "    print(\"No document found with the given EAN:\", ean_input)\n",
    "\n",
    "# Generate the affiliate link if ASINS is present\n",
    "affiliate_link = \"\"\n",
    "if document:\n",
    "    asin = document.get('asins')\n",
    "    print(\"ASINS value found:\", asin)  # Debugging line\n",
    "    if asin:\n",
    "        affiliate_link = generate_affiliate_link(asin)\n",
    "\n",
    "# Output the generated affiliate link in JSON format\n",
    "output = {\"link\": affiliate_link}\n",
    "output_json = json.dumps(output, indent=4)\n",
    "print(output_json)"
   ]
  }
 ],
 "metadata": {
  "kernelspec": {
   "display_name": "big-ticket-mongodb",
   "language": "python",
   "name": "python3"
  },
  "language_info": {
   "codemirror_mode": {
    "name": "ipython",
    "version": 3
   },
   "file_extension": ".py",
   "mimetype": "text/x-python",
   "name": "python",
   "nbconvert_exporter": "python",
   "pygments_lexer": "ipython3",
   "version": "3.12.4"
  }
 },
 "nbformat": 4,
 "nbformat_minor": 2
}
